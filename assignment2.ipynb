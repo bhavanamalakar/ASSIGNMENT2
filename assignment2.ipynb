{
 "cells": [
  {
   "cell_type": "code",
   "execution_count": 12,
   "id": "757f44b2-d044-4123-98f3-1843e18b9d1f",
   "metadata": {},
   "outputs": [
    {
     "name": "stdin",
     "output_type": "stream",
     "text": [
      "Enter Percentage: 80\n"
     ]
    },
    {
     "name": "stdout",
     "output_type": "stream",
     "text": [
      "Grade: C\n"
     ]
    }
   ],
   "source": [
    "# Q1:WRITE A PROGRAM TO ACCEPT PERCENTAGE FROM THE USER AND DISPLAY THE GRADE ACCORDING TO THE FOLLOWING CRITERIA:\n",
    "# >90 A,>80 and <=90 B, >=60 and <=80 C ,below 60 D    \n",
    "percentage=int(input(\"Enter Percentage:\"))\n",
    "if percentage>90:\n",
    "    print(\"Grade: A\")\n",
    "elif percentage>80 and percentage<=90:\n",
    "    print(\"Grade: B\")\n",
    "elif percentage>=60 and percentage<=80:\n",
    "    print(\"Grade: C\")\n",
    "else:\n",
    "    print(\"Grade: D\")\n"
   ]
  },
  {
   "cell_type": "code",
   "execution_count": 10,
   "id": "da13c14e-0273-45cb-ade4-63d8265369b6",
   "metadata": {},
   "outputs": [
    {
     "name": "stdin",
     "output_type": "stream",
     "text": [
      "Enter Bike CP: 200000\n"
     ]
    },
    {
     "name": "stdout",
     "output_type": "stream",
     "text": [
      "Road tax to paid: 30000.0\n"
     ]
    }
   ],
   "source": [
    "# WRITE A PROGRAM TO ACCEPT THE COST PRICE OF A BIKE AND DISPLAY THE ROAD TAX TO PAID ACCORDING TO THE FOLLOWING CRITERIA:\n",
    "# 15% >100000 ,10%  >50000 and <=100000, 5%  <=50000\n",
    "\n",
    "tax=0\n",
    "cost_price=int(input(\"Enter Bike CP:\"))\n",
    "if cost_price>100000:\n",
    "    tax=0.15*cost_price\n",
    "elif cost_price>50000 and cost_price<=100000:\n",
    "    tax=0.1*cost_price\n",
    "elif cost_price<=50000:\n",
    "    tax=0.5*cost_price\n",
    "print(\"Road tax to paid:\",tax)"
   ]
  },
  {
   "cell_type": "code",
   "execution_count": 19,
   "id": "d2919cef-f466-4dfc-b24d-e6ba97ec6597",
   "metadata": {},
   "outputs": [
    {
     "name": "stdin",
     "output_type": "stream",
     "text": [
      "Enter city: Jaipur\n"
     ]
    },
    {
     "name": "stdout",
     "output_type": "stream",
     "text": [
      "Jai Mahal\n"
     ]
    }
   ],
   "source": [
    "# ACCEPT ANY CITY FROM THE USER AND DISPLAY MONUMENTS OF THAT CITY:\n",
    "# DELHI:REDFORT,AGRA:TAJMAHAL,JAIPUR:JAIMAHAL\n",
    "\n",
    "city=input(\"Enter city:\")\n",
    "if city=='Delhi':\n",
    "    print(\"Red Fort\")\n",
    "elif city=='Agra':\n",
    "    print(\"Taj Mahal\")\n",
    "elif city=='Jaipur':\n",
    "    print(\"Jai Mahal\")\n",
    "else:\n",
    "    print(\"NOt found\")\n"
   ]
  },
  {
   "cell_type": "code",
   "execution_count": 8,
   "id": "1e37a503-184b-4f17-80a9-7697cd5546c8",
   "metadata": {},
   "outputs": [
    {
     "name": "stdin",
     "output_type": "stream",
     "text": [
      "Enter a number:  30\n"
     ]
    },
    {
     "name": "stdout",
     "output_type": "stream",
     "text": [
      "Number of times 10.0 can be divided by 3 before it's less than or equal to 10: 1\n"
     ]
    }
   ],
   "source": [
    "# CHECK HOW MANY TIME A GIVEN NUMBER CAN BE DIVIDED BY 3 BEFORE IT IS LESS THAN OR EQUAL TO 10?\n",
    "number = int(input(\"Enter a number: \"))\n",
    "count = 0\n",
    "\n",
    "while number > 10:\n",
    "    number /= 3\n",
    "    count += 1\n",
    "\n",
    "print(\"Number of times\", number, \"can be divided by 3 before it's less than or equal to 10:\", count)\n",
    "\n"
   ]
  },
  {
   "cell_type": "code",
   "execution_count": null,
   "id": "e968fa1c-f13f-49ee-9d51-58bfd4108915",
   "metadata": {},
   "outputs": [],
   "source": [
    "# why and when to use while loop in python give a detailed description with example.\n",
    "\n",
    "Ans: Python While Loop is used to execute a block of statements repeatedly until a given condition is satisfied. And when the condition becomes false,\n",
    "     the line immediately after the loop in the program is executed.While loop falls under the category of indefinite iteration. Indefinite iteration \n",
    "     means that the number of times the loop is executed isn’t specified explicitly in advance. Statements represent all the statements indented by \n",
    "    the same number of character spaces after a programming construct are considered to be part of a single block of code. Python uses indentation as \n",
    "    its method of grouping statements. When a while loop is executed, expr is first evaluated in a  Boolean context and if it is true, the loop body \n",
    "    is executed. Then the expr is checked again, if it is still true then the body is executed again and this continues until the expression becomes \n",
    "    false.\n",
    "\n",
    "Syntax: \n",
    "\n",
    "while expression:\n",
    "    statement(s)\n",
    "EXAMPLE:\n",
    "    \n",
    "Print i as long as i is less than 6:\n",
    "\n",
    "i = 1\n",
    "while i < 6:\n",
    "  print(i)\n",
    "  i += 1"
   ]
  },
  {
   "cell_type": "code",
   "execution_count": 5,
   "id": "6b8d0e62-d07d-4863-adb8-04411f9ec6f1",
   "metadata": {},
   "outputs": [
    {
     "name": "stdout",
     "output_type": "stream",
     "text": [
      "10\n",
      "9\n",
      "8\n",
      "7\n",
      "6\n",
      "5\n",
      "4\n",
      "3\n",
      "2\n",
      "1\n"
     ]
    }
   ],
   "source": [
    "# Reverse a while loop to display number fro 10 to 1.\n",
    "\n",
    "i=10\n",
    "while i>=1:\n",
    "    print(i)\n",
    "    i=i-1    "
   ]
  },
  {
   "cell_type": "code",
   "execution_count": 3,
   "id": "c07acf72-2aa8-4753-801d-3745e236d0ac",
   "metadata": {},
   "outputs": [
    {
     "name": "stdout",
     "output_type": "stream",
     "text": [
      "1\n",
      "2\n",
      "3\n",
      "4\n",
      "5\n",
      "6\n",
      "7\n",
      "8\n",
      "9\n",
      "10\n"
     ]
    }
   ],
   "source": [
    "# Reverse a while loop to display number fro 1 to 10.\n",
    "\n",
    "i=1\n",
    "while i<=10:\n",
    "    print(i)\n",
    "    i=i+1"
   ]
  },
  {
   "cell_type": "code",
   "execution_count": 9,
   "id": "a23b97f0-8057-4488-961f-063e9f121e1d",
   "metadata": {},
   "outputs": [
    {
     "name": "stdout",
     "output_type": "stream",
     "text": [
      "1 \n",
      "1 2 \n",
      "1 2 3 \n",
      "1 2 3 4 \n",
      "1 2 3 4 5 \n"
     ]
    }
   ],
   "source": [
    "# use nested while loop to print 3 different pattern\n",
    "#PATTERN1\n",
    "row = 1\n",
    "while row <= 5:\n",
    "    col = 1\n",
    "    while col <= row:\n",
    "        print(col, end=\" \")\n",
    "        col += 1\n",
    "    print()\n",
    "    row += 1\n"
   ]
  },
  {
   "cell_type": "code",
   "execution_count": 10,
   "id": "9816d21a-6b25-4dc6-b16c-2d70317451ef",
   "metadata": {},
   "outputs": [
    {
     "name": "stdout",
     "output_type": "stream",
     "text": [
      "5 4 3 2 1 \n",
      "4 3 2 1 \n",
      "3 2 1 \n",
      "2 1 \n",
      "1 \n"
     ]
    }
   ],
   "source": [
    "#PATTERN2\n",
    "row = 5\n",
    "while row >= 1:\n",
    "    col = row\n",
    "    while col >= 1:\n",
    "        print(col, end=\" \")\n",
    "        col -= 1\n",
    "    print()\n",
    "    row -= 1\n"
   ]
  },
  {
   "cell_type": "code",
   "execution_count": 11,
   "id": "be2b6a79-bd98-47ae-a5f3-f908b928c6ea",
   "metadata": {},
   "outputs": [
    {
     "name": "stdout",
     "output_type": "stream",
     "text": [
      "* \n",
      "* * \n",
      "* * * \n",
      "* * * * \n",
      "* * * * * \n"
     ]
    }
   ],
   "source": [
    "#PATTERN2\n",
    "row = 1\n",
    "while row <= 5:\n",
    "    col = 1\n",
    "    while col <= row:\n",
    "        print(\"*\", end=\" \")\n",
    "        col += 1\n",
    "    print()\n",
    "    row += 1\n"
   ]
  }
 ],
 "metadata": {
  "kernelspec": {
   "display_name": "Python 3 (ipykernel)",
   "language": "python",
   "name": "python3"
  },
  "language_info": {
   "codemirror_mode": {
    "name": "ipython",
    "version": 3
   },
   "file_extension": ".py",
   "mimetype": "text/x-python",
   "name": "python",
   "nbconvert_exporter": "python",
   "pygments_lexer": "ipython3",
   "version": "3.10.8"
  }
 },
 "nbformat": 4,
 "nbformat_minor": 5
}
